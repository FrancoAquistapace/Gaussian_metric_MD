{
 "cells": [
  {
   "cell_type": "markdown",
   "id": "04a02140",
   "metadata": {},
   "source": [
    "Copyright 2023 Franco Aquistapace\n",
    "\n",
    "Licensed under the Apache License, Version 2.0 (the \"License\");\n",
    "you may not use this file except in compliance with the License.\n",
    "You may obtain a copy of the License at\n",
    "\n",
    "   http://www.apache.org/licenses/LICENSE-2.0\n",
    "\n",
    "Unless required by applicable law or agreed to in writing, software\n",
    "distributed under the License is distributed on an \"AS IS\" BASIS,\n",
    "WITHOUT WARRANTIES OR CONDITIONS OF ANY KIND, either express or implied.\n",
    "See the License for the specific language governing permissions and\n",
    "limitations under the License."
   ]
  },
  {
   "cell_type": "markdown",
   "id": "eacd0287",
   "metadata": {},
   "source": [
    "# Import libraries and code"
   ]
  },
  {
   "cell_type": "code",
   "execution_count": 1,
   "id": "e65a4435",
   "metadata": {},
   "outputs": [],
   "source": [
    "import pandas as pd\n",
    "import numpy as np\n",
    "from scipy import integrate\n",
    "import matplotlib.pyplot as plt"
   ]
  },
  {
   "cell_type": "code",
   "execution_count": 2,
   "id": "ade79f10",
   "metadata": {},
   "outputs": [],
   "source": [
    "from gaussian_metric import *\n",
    "from tools import *"
   ]
  },
  {
   "cell_type": "markdown",
   "id": "b329e072",
   "metadata": {},
   "source": [
    "# Comparing integration methods\n",
    "\n",
    "We need to find out what is the best way to integrate functions that take vectors as inputs. First, let's check that both implementations of our functions work properly."
   ]
  },
  {
   "cell_type": "code",
   "execution_count": 6,
   "id": "ce9ab67e",
   "metadata": {},
   "outputs": [
    {
     "name": "stdout",
     "output_type": "stream",
     "text": [
      "Vector implementation\n",
      "C(0.0, 0.0, 0.0) = 1.0056\n",
      "C(0.5, 0.0, 0.0) = 0.4173\n",
      "C(0.0, 0.5, 0.0) = 0.4173\n",
      "C(0.0, 0.5, 0.5) = 0.1732\n",
      "C(1.0, 1.0, 1.0) = 1.0056\n",
      "\n",
      "Element-wise implementation\n",
      "C(0.0, 0.0, 0.0) = 1.0056\n",
      "C(0.5, 0.0, 0.0) = 0.4173\n",
      "C(0.0, 0.5, 0.0) = 0.4173\n",
      "C(0.0, 0.5, 0.5) = 0.1732\n",
      "C(1.0, 1.0, 1.0) = 1.0056\n"
     ]
    }
   ],
   "source": [
    "# Build dummy configuration\n",
    "sc_test = gen_sc_lattice(2,2,2,1)\n",
    "\n",
    "# Build some positions\n",
    "p1 = np.array([0,   0,   0  ])\n",
    "p2 = np.array([0.5, 0,   0  ])\n",
    "p3 = np.array([0,   0.5, 0  ])\n",
    "p4 = np.array([0,   0.5, 0.5])\n",
    "p5 = np.array([1,   1,   1  ])\n",
    "\n",
    "# Print measure representation values\n",
    "print('Vector implementation')\n",
    "for p in [p1,p2,p3,p4,p5]:\n",
    "    C_rep = measure_representation(p, sc_test)\n",
    "    print(\"C(%.1f, %.1f, %.1f) = %.4f\" % (*p, C_rep))\n",
    "print('\\nElement-wise implementation')\n",
    "for p in [p1,p2,p3,p4,p5]:\n",
    "    C_rep = measure_representation_exp(\n",
    "        p[0],p[1],p[2], sc_test)\n",
    "    print(\"C(%.1f, %.1f, %.1f) = %.4f\" % (*p, C_rep))"
   ]
  },
  {
   "cell_type": "markdown",
   "id": "ac917896",
   "metadata": {},
   "source": [
    "This seems to be working, now we have to see which integration method is better. We already know that the integration performed by scipy is precise, but we can compare its performance to a more rudimentary integration method. This last method consists of sampling the integration interval, evaluating the function on said points and adding the results to get an estimate of the integral."
   ]
  },
  {
   "cell_type": "markdown",
   "id": "4ffbc125",
   "metadata": {},
   "source": [
    "# Designing some configurations to test the metric"
   ]
  },
  {
   "cell_type": "code",
   "execution_count": null,
   "id": "ebdc67ac",
   "metadata": {},
   "outputs": [],
   "source": []
  }
 ],
 "metadata": {
  "kernelspec": {
   "display_name": "Python 3",
   "language": "python",
   "name": "python3"
  },
  "language_info": {
   "codemirror_mode": {
    "name": "ipython",
    "version": 3
   },
   "file_extension": ".py",
   "mimetype": "text/x-python",
   "name": "python",
   "nbconvert_exporter": "python",
   "pygments_lexer": "ipython3",
   "version": "3.8.8"
  }
 },
 "nbformat": 4,
 "nbformat_minor": 5
}
