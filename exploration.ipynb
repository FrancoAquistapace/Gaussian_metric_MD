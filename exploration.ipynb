{
 "cells": [
  {
   "cell_type": "markdown",
   "id": "d9ee94fc",
   "metadata": {},
   "source": [
    "Copyright 2023 Franco Aquistapace\n",
    "\n",
    "Licensed under the Apache License, Version 2.0 (the \"License\");\n",
    "you may not use this file except in compliance with the License.\n",
    "You may obtain a copy of the License at\n",
    "\n",
    "   http://www.apache.org/licenses/LICENSE-2.0\n",
    "\n",
    "Unless required by applicable law or agreed to in writing, software\n",
    "distributed under the License is distributed on an \"AS IS\" BASIS,\n",
    "WITHOUT WARRANTIES OR CONDITIONS OF ANY KIND, either express or implied.\n",
    "See the License for the specific language governing permissions and\n",
    "limitations under the License."
   ]
  },
  {
   "cell_type": "markdown",
   "id": "5cfd8505",
   "metadata": {},
   "source": [
    "# Import libraries and code"
   ]
  },
  {
   "cell_type": "code",
   "execution_count": 1,
   "id": "4ad4c7f7",
   "metadata": {},
   "outputs": [],
   "source": [
    "import pandas as pd\n",
    "import numpy as np\n",
    "import matplotlib.pyplot as plt"
   ]
  },
  {
   "cell_type": "code",
   "execution_count": 2,
   "id": "e931b7d9",
   "metadata": {},
   "outputs": [],
   "source": [
    "from gaussian_metric import *"
   ]
  },
  {
   "cell_type": "markdown",
   "id": "4d8dc957",
   "metadata": {},
   "source": [
    "# Auxiliary functions"
   ]
  },
  {
   "cell_type": "code",
   "execution_count": null,
   "id": "1c0eaaa7",
   "metadata": {},
   "outputs": [],
   "source": [
    "# We need a function that can build a DataFrame with atomic \n",
    "# positions, for a given array of positions\n"
   ]
  },
  {
   "cell_type": "markdown",
   "id": "1c945c17",
   "metadata": {},
   "source": [
    "# Designing some configurations to test the metric"
   ]
  },
  {
   "cell_type": "code",
   "execution_count": null,
   "id": "42fc09ce",
   "metadata": {},
   "outputs": [],
   "source": []
  }
 ],
 "metadata": {
  "kernelspec": {
   "display_name": "Python 3",
   "language": "python",
   "name": "python3"
  },
  "language_info": {
   "codemirror_mode": {
    "name": "ipython",
    "version": 3
   },
   "file_extension": ".py",
   "mimetype": "text/x-python",
   "name": "python",
   "nbconvert_exporter": "python",
   "pygments_lexer": "ipython3",
   "version": "3.8.8"
  }
 },
 "nbformat": 4,
 "nbformat_minor": 5
}
