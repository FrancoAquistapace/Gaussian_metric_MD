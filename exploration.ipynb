{
 "cells": [
  {
   "cell_type": "markdown",
   "id": "a553ac7b",
   "metadata": {},
   "source": [
    "Copyright 2023 Franco Aquistapace\n",
    "\n",
    "Licensed under the Apache License, Version 2.0 (the \"License\");\n",
    "you may not use this file except in compliance with the License.\n",
    "You may obtain a copy of the License at\n",
    "\n",
    "   http://www.apache.org/licenses/LICENSE-2.0\n",
    "\n",
    "Unless required by applicable law or agreed to in writing, software\n",
    "distributed under the License is distributed on an \"AS IS\" BASIS,\n",
    "WITHOUT WARRANTIES OR CONDITIONS OF ANY KIND, either express or implied.\n",
    "See the License for the specific language governing permissions and\n",
    "limitations under the License."
   ]
  },
  {
   "cell_type": "markdown",
   "id": "2d6b3a67",
   "metadata": {},
   "source": [
    "# Import libraries and code"
   ]
  },
  {
   "cell_type": "code",
   "execution_count": 1,
   "id": "a6c5d907",
   "metadata": {},
   "outputs": [],
   "source": [
    "import pandas as pd\n",
    "import numpy as np\n",
    "from scipy import integrate\n",
    "import matplotlib.pyplot as plt\n",
    "\n",
    "import time"
   ]
  },
  {
   "cell_type": "code",
   "execution_count": 2,
   "id": "fe118a20",
   "metadata": {},
   "outputs": [],
   "source": [
    "from gaussian_metric import *\n",
    "from tools import *"
   ]
  },
  {
   "cell_type": "markdown",
   "id": "f85953eb",
   "metadata": {},
   "source": [
    "# Comparing integration methods\n",
    "\n",
    "We need to find out what is the best way to integrate functions that take vectors as inputs. First, let's check that both implementations of our functions work properly."
   ]
  },
  {
   "cell_type": "code",
   "execution_count": 3,
   "id": "e0bc4ef4",
   "metadata": {},
   "outputs": [
    {
     "name": "stdout",
     "output_type": "stream",
     "text": [
      "Vector implementation\n",
      "C(0.0, 0.0, 0.0) = 1.0056\n",
      "C(0.5, 0.0, 0.0) = 0.4173\n",
      "C(0.0, 0.5, 0.0) = 0.4173\n",
      "C(0.0, 0.5, 0.5) = 0.1732\n",
      "C(1.0, 1.0, 1.0) = 1.0056\n",
      "\n",
      "Element-wise implementation\n",
      "C(0.0, 0.0, 0.0) = 1.0056\n",
      "C(0.5, 0.0, 0.0) = 0.4173\n",
      "C(0.0, 0.5, 0.0) = 0.4173\n",
      "C(0.0, 0.5, 0.5) = 0.1732\n",
      "C(1.0, 1.0, 1.0) = 1.0056\n"
     ]
    }
   ],
   "source": [
    "# Build dummy configuration\n",
    "sc_test = gen_sc_lattice(2,2,2,1)\n",
    "\n",
    "# Build some positions\n",
    "p1 = np.array([0,   0,   0  ])\n",
    "p2 = np.array([0.5, 0,   0  ])\n",
    "p3 = np.array([0,   0.5, 0  ])\n",
    "p4 = np.array([0,   0.5, 0.5])\n",
    "p5 = np.array([1,   1,   1  ])\n",
    "\n",
    "# Print measure representation values\n",
    "print('Vector implementation')\n",
    "for p in [p1,p2,p3,p4,p5]:\n",
    "    C_rep = measure_representation(p, sc_test)\n",
    "    print(\"C(%.1f, %.1f, %.1f) = %.4f\" % (*p, C_rep))\n",
    "print('\\nElement-wise implementation')\n",
    "for p in [p1,p2,p3,p4,p5]:\n",
    "    C_rep = measure_representation_exp(\n",
    "        p[0],p[1],p[2], sc_test)\n",
    "    print(\"C(%.1f, %.1f, %.1f) = %.4f\" % (*p, C_rep))"
   ]
  },
  {
   "cell_type": "markdown",
   "id": "490edbe2",
   "metadata": {},
   "source": [
    "This seems to be working, now we have to see which integration method is better. We already know that the integration performed by scipy is precise, but we can compare its performance to a more rudimentary integration method. This last method consists of sampling the integration interval, evaluating the function on said points and adding the results, multiplied by the sample volume, to get an estimate of the integral."
   ]
  },
  {
   "cell_type": "code",
   "execution_count": 4,
   "id": "8b02146e",
   "metadata": {},
   "outputs": [
    {
     "data": {
      "image/png": "[encoded data removed]",
      "text/plain": [
       "<Figure size 720x504 with 1 Axes>"
      ]
     },
     "metadata": {
      "needs_background": "light"
     },
     "output_type": "display_data"
    }
   ],
   "source": [
    "# Test implementation of sampling method, and find out how it converges\n",
    "sc1 = gen_sc_lattice(2,2,2,1)\n",
    "sc2 = gen_sc_lattice(2,2,2,1)\n",
    "sc2 = displace(sc2, np.array([-1.5,-1.5,-1.5]))\n",
    "margin_size = 2\n",
    "step_size = [1,0.8,0.6,0.4,0.2,0.15]\n",
    "dot_sc1_sc2 = [dot(sc1, sc2, s, margin_size) for s in step_size]\n",
    "# Plot results\n",
    "FONTSIZE = 25\n",
    "fig, ax = plt.subplots(figsize=(10,7), nrows=1, ncols=1)\n",
    "ax.plot(step_size, dot_sc1_sc2)\n",
    "ax.set_xlabel(r'Step size [$\\AA$]', fontsize=FONTSIZE)\n",
    "ax.set_ylabel(r'$\\langle C_1, C_2 \\rangle$', fontsize=FONTSIZE)\n",
    "ax.tick_params(labelsize=FONTSIZE-2);"
   ]
  },
  {
   "cell_type": "code",
   "execution_count": null,
   "id": "1af566e2",
   "metadata": {},
   "outputs": [
    {
     "name": "stdout",
     "output_type": "stream",
     "text": [
      "Vector implementation finished in 0.35 s\n",
      "Element-wise implementation finished in 117.83 s\n"
     ]
    }
   ],
   "source": [
    "# Comparing the two methods, using step_size = 0.4 for sampling method\n",
    "margin_size = 2\n",
    "step_size = 0.4\n",
    "tol = 0.001\n",
    "# Generate reference lattice\n",
    "sc1 = gen_sc_lattice(2,2,1,1)\n",
    "# Generate multiple displace lattices\n",
    "disp = [0.2 * n for n in range(2)]\n",
    "sc2 = [displace(gen_sc_lattice(2,2,1,1), np.array([d,0,0])) for d in disp]\n",
    "# Get results with both methods\n",
    "time1 = time.time()\n",
    "vector_results = [dot(sc1, sc, step_size, margin_size) for sc in sc2]\n",
    "time2 = time.time()\n",
    "print('Vector implementation finished in %.2f s' % (time2-time1))\n",
    "explicit_results = [dot_exp(sc1, sc, margin_size, tol) for sc in sc2]\n",
    "time3 = time.time()\n",
    "print('Element-wise implementation finished in %.2f s' % (time3-time2))\n",
    "# Plot results\n",
    "FONTSIZE = 25\n",
    "fig, ax = plt.subplots(figsize=(10,7), nrows=1, ncols=1)\n",
    "ax.plot(disp, vector_results, label='Vector implementation')\n",
    "ax.plot(disp, explicit_results, label='Element-wise implementation')\n",
    "ax.set_xlabel(r'Displacement [$\\AA$]', fontsize=FONTSIZE)\n",
    "ax.set_ylabel(r'$\\langle C_1, C_2 \\rangle$', fontsize=FONTSIZE)\n",
    "ax.tick_params(labelsize=FONTSIZE-2)\n",
    "ax.legend(fontsize=FONTSIZE);"
   ]
  },
  {
   "cell_type": "markdown",
   "id": "807e7272",
   "metadata": {},
   "source": [
    "# Designing some configurations to test the metric"
   ]
  },
  {
   "cell_type": "code",
   "execution_count": null,
   "id": "45448e3a",
   "metadata": {},
   "outputs": [],
   "source": []
  },
  {
   "cell_type": "code",
   "execution_count": null,
   "id": "f08878f3",
   "metadata": {},
   "outputs": [],
   "source": []
  }
 ],
 "metadata": {
  "kernelspec": {
   "display_name": "Python 3",
   "language": "python",
   "name": "python3"
  },
  "language_info": {
   "codemirror_mode": {
    "name": "ipython",
    "version": 3
   },
   "file_extension": ".py",
   "mimetype": "text/x-python",
   "name": "python",
   "nbconvert_exporter": "python",
   "pygments_lexer": "ipython3",
   "version": "3.8.8"
  }
 },
 "nbformat": 4,
 "nbformat_minor": 5
}
