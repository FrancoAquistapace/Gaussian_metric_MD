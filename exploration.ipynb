{
 "cells": [
  {
   "cell_type": "markdown",
   "id": "39b0ce3c",
   "metadata": {},
   "source": [
    "Copyright 2023 Franco Aquistapace\n",
    "\n",
    "Licensed under the Apache License, Version 2.0 (the \"License\");\n",
    "you may not use this file except in compliance with the License.\n",
    "You may obtain a copy of the License at\n",
    "\n",
    "   http://www.apache.org/licenses/LICENSE-2.0\n",
    "\n",
    "Unless required by applicable law or agreed to in writing, software\n",
    "distributed under the License is distributed on an \"AS IS\" BASIS,\n",
    "WITHOUT WARRANTIES OR CONDITIONS OF ANY KIND, either express or implied.\n",
    "See the License for the specific language governing permissions and\n",
    "limitations under the License."
   ]
  },
  {
   "cell_type": "markdown",
   "id": "15606561",
   "metadata": {},
   "source": [
    "# Import libraries and code"
   ]
  },
  {
   "cell_type": "code",
   "execution_count": 27,
   "id": "a84e65ab",
   "metadata": {},
   "outputs": [],
   "source": [
    "import pandas as pd\n",
    "import numpy as np\n",
    "from scipy import integrate\n",
    "import matplotlib.pyplot as plt"
   ]
  },
  {
   "cell_type": "code",
   "execution_count": 29,
   "id": "903a7d1c",
   "metadata": {},
   "outputs": [],
   "source": [
    "from gaussian_metric import *\n",
    "from tools import *"
   ]
  },
  {
   "cell_type": "markdown",
   "id": "4a832fcb",
   "metadata": {},
   "source": [
    "# Comparing integration methods\n",
    "\n",
    "We need to find out what is the best way to integrate functions that take vectors as inputs. First, let's check that both implementations of our functions work properly."
   ]
  },
  {
   "cell_type": "code",
   "execution_count": null,
   "id": "3af9f51e",
   "metadata": {},
   "outputs": [],
   "source": [
    "# Build dummy configuration"
   ]
  },
  {
   "cell_type": "markdown",
   "id": "3873e9e7",
   "metadata": {},
   "source": [
    "# Designing some configurations to test the metric"
   ]
  },
  {
   "cell_type": "code",
   "execution_count": null,
   "id": "8826768a",
   "metadata": {},
   "outputs": [],
   "source": []
  }
 ],
 "metadata": {
  "kernelspec": {
   "display_name": "Python 3",
   "language": "python",
   "name": "python3"
  },
  "language_info": {
   "codemirror_mode": {
    "name": "ipython",
    "version": 3
   },
   "file_extension": ".py",
   "mimetype": "text/x-python",
   "name": "python",
   "nbconvert_exporter": "python",
   "pygments_lexer": "ipython3",
   "version": "3.8.8"
  }
 },
 "nbformat": 4,
 "nbformat_minor": 5
}
