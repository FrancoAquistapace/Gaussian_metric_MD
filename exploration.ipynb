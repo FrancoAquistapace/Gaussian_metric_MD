{
 "cells": [
  {
   "cell_type": "markdown",
   "id": "3e478424",
   "metadata": {},
   "source": [
    "# Import libraries and code"
   ]
  },
  {
   "cell_type": "code",
   "execution_count": 1,
   "id": "8d257f32",
   "metadata": {},
   "outputs": [],
   "source": [
    "import pandas as pd\n",
    "import numpy as np\n",
    "import matplotlib.pyplot as plt"
   ]
  },
  {
   "cell_type": "code",
   "execution_count": 2,
   "id": "bcbca735",
   "metadata": {},
   "outputs": [],
   "source": [
    "from gaussian_metric import *"
   ]
  },
  {
   "cell_type": "markdown",
   "id": "76e662de",
   "metadata": {},
   "source": [
    "# Auxiliary functions"
   ]
  },
  {
   "cell_type": "code",
   "execution_count": null,
   "id": "9599f813",
   "metadata": {},
   "outputs": [],
   "source": [
    "# We need a function that can build a DataFrame with atomic \n",
    "# positions, for a given array of positions\n"
   ]
  },
  {
   "cell_type": "markdown",
   "id": "78d086e4",
   "metadata": {},
   "source": [
    "# Designing some configurations to test the metric"
   ]
  },
  {
   "cell_type": "code",
   "execution_count": null,
   "id": "3bc8ff47",
   "metadata": {},
   "outputs": [],
   "source": []
  }
 ],
 "metadata": {
  "kernelspec": {
   "display_name": "Python 3",
   "language": "python",
   "name": "python3"
  },
  "language_info": {
   "codemirror_mode": {
    "name": "ipython",
    "version": 3
   },
   "file_extension": ".py",
   "mimetype": "text/x-python",
   "name": "python",
   "nbconvert_exporter": "python",
   "pygments_lexer": "ipython3",
   "version": "3.8.8"
  }
 },
 "nbformat": 4,
 "nbformat_minor": 5
}
